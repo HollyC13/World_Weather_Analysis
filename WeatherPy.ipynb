{
 "cells": [
  {
   "cell_type": "code",
   "execution_count": 3,
   "source": [
    "# Import the dependencies\r\n",
    "import pandas as pd\r\n",
    "import matplotlib.pyplot as plt\r\n",
    "import numpy as np"
   ],
   "outputs": [],
   "metadata": {}
  },
  {
   "cell_type": "code",
   "execution_count": 4,
   "source": [
    "# Create a set of random latitude and longitude combinations\r\n",
    "lats = np.random.uniform(low=-90.000, high=90.000, size=1500)\r\n",
    "lngs = np.random.uniform(low=-180.000, high=180.000, size=1500)\r\n",
    "lat_lngs = zip(lats, lngs)\r\n",
    "lat_lngs"
   ],
   "outputs": [
    {
     "output_type": "execute_result",
     "data": {
      "text/plain": [
       "<zip at 0x24643e3ba08>"
      ]
     },
     "metadata": {},
     "execution_count": 4
    }
   ],
   "metadata": {}
  },
  {
   "cell_type": "code",
   "execution_count": 5,
   "source": [
    "# Add the latitudes and longitudes to a list\r\n",
    "coordinates = list(lat_lngs)"
   ],
   "outputs": [],
   "metadata": {}
  },
  {
   "cell_type": "code",
   "execution_count": 7,
   "source": [
    "# Use the citipy mocule to determine city based on latitude and longitude\r\n",
    "from citipy import citipy"
   ],
   "outputs": [],
   "metadata": {}
  },
  {
   "cell_type": "code",
   "execution_count": 19,
   "source": [
    "# Create a list for holding the cities.\r\n",
    "cities = []\r\n",
    "# Identify the nearest city for each latitude and longitude combination.\r\n",
    "for coordinate in coordinates:\r\n",
    "    city = citipy.nearest_city(coordinate[0], coordinate[1]).city_name\r\n",
    "\r\n",
    "    # If the city is unique, then we will add it to the cities list.\r\n",
    "    if city not in cities:\r\n",
    "        cities.append(city)\r\n",
    "# Print the city count to confirm sufficient count.\r\n",
    "len(cities)"
   ],
   "outputs": [
    {
     "output_type": "execute_result",
     "data": {
      "text/plain": [
       "639"
      ]
     },
     "metadata": {},
     "execution_count": 19
    }
   ],
   "metadata": {}
  }
 ],
 "metadata": {
  "language_info": {
   "name": "python",
   "version": "3.7.10",
   "mimetype": "text/x-python",
   "codemirror_mode": {
    "name": "ipython",
    "version": 3
   },
   "pygments_lexer": "ipython3",
   "nbconvert_exporter": "python",
   "file_extension": ".py"
  },
  "kernelspec": {
   "name": "python3",
   "display_name": "Python 3.7.10 64-bit ('PythonData': conda)"
  },
  "interpreter": {
   "hash": "2fc54fcfdff9fc807bf4c3cb881b8918bc3897539eb56229e8f83bc2026f0e36"
  }
 },
 "nbformat": 4,
 "nbformat_minor": 5
}
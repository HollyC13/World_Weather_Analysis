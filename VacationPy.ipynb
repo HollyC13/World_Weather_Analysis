{
 "cells": [
  {
   "cell_type": "code",
   "execution_count": 3,
   "source": [
    "# Import the dependencies\r\n",
    "import pandas as pd\r\n",
    "import gmaps\r\n",
    "import requests\r\n",
    "\r\n",
    "# Import the API key\r\n",
    "from config import g_key"
   ],
   "outputs": [],
   "metadata": {}
  },
  {
   "cell_type": "code",
   "execution_count": 4,
   "source": [
    "# Store the csv you saved or created in part one into a DataFrame\r\n",
    "city_data_df = pd.read_csv(\"weather_data/cities.csv\")\r\n",
    "city_data_df.head()"
   ],
   "outputs": [
    {
     "output_type": "execute_result",
     "data": {
      "text/html": [
       "<div>\n",
       "<style scoped>\n",
       "    .dataframe tbody tr th:only-of-type {\n",
       "        vertical-align: middle;\n",
       "    }\n",
       "\n",
       "    .dataframe tbody tr th {\n",
       "        vertical-align: top;\n",
       "    }\n",
       "\n",
       "    .dataframe thead th {\n",
       "        text-align: right;\n",
       "    }\n",
       "</style>\n",
       "<table border=\"1\" class=\"dataframe\">\n",
       "  <thead>\n",
       "    <tr style=\"text-align: right;\">\n",
       "      <th></th>\n",
       "      <th>City_ID</th>\n",
       "      <th>City</th>\n",
       "      <th>Country</th>\n",
       "      <th>Date</th>\n",
       "      <th>Lat</th>\n",
       "      <th>Lng</th>\n",
       "      <th>Max Temp</th>\n",
       "      <th>Humidity</th>\n",
       "      <th>Cloudiness</th>\n",
       "      <th>Wind Speed</th>\n",
       "    </tr>\n",
       "  </thead>\n",
       "  <tbody>\n",
       "    <tr>\n",
       "      <th>0</th>\n",
       "      <td>0</td>\n",
       "      <td>Devrek</td>\n",
       "      <td>TR</td>\n",
       "      <td>2021-10-02 00:22:05</td>\n",
       "      <td>41.2192</td>\n",
       "      <td>31.9558</td>\n",
       "      <td>48.96</td>\n",
       "      <td>91</td>\n",
       "      <td>8</td>\n",
       "      <td>3.36</td>\n",
       "    </tr>\n",
       "    <tr>\n",
       "      <th>1</th>\n",
       "      <td>1</td>\n",
       "      <td>Saint-Augustin</td>\n",
       "      <td>CA</td>\n",
       "      <td>2021-10-02 00:22:05</td>\n",
       "      <td>51.2260</td>\n",
       "      <td>-58.6502</td>\n",
       "      <td>44.19</td>\n",
       "      <td>84</td>\n",
       "      <td>100</td>\n",
       "      <td>24.07</td>\n",
       "    </tr>\n",
       "    <tr>\n",
       "      <th>2</th>\n",
       "      <td>2</td>\n",
       "      <td>Mataura</td>\n",
       "      <td>NZ</td>\n",
       "      <td>2021-10-02 00:19:36</td>\n",
       "      <td>-46.1927</td>\n",
       "      <td>168.8643</td>\n",
       "      <td>57.47</td>\n",
       "      <td>60</td>\n",
       "      <td>100</td>\n",
       "      <td>5.91</td>\n",
       "    </tr>\n",
       "    <tr>\n",
       "      <th>3</th>\n",
       "      <td>3</td>\n",
       "      <td>Volksrust</td>\n",
       "      <td>ZA</td>\n",
       "      <td>2021-10-02 00:22:06</td>\n",
       "      <td>-27.3654</td>\n",
       "      <td>29.8818</td>\n",
       "      <td>55.65</td>\n",
       "      <td>83</td>\n",
       "      <td>84</td>\n",
       "      <td>9.37</td>\n",
       "    </tr>\n",
       "    <tr>\n",
       "      <th>4</th>\n",
       "      <td>4</td>\n",
       "      <td>Kamyshlov</td>\n",
       "      <td>RU</td>\n",
       "      <td>2021-10-02 00:22:06</td>\n",
       "      <td>56.8428</td>\n",
       "      <td>62.7111</td>\n",
       "      <td>32.97</td>\n",
       "      <td>75</td>\n",
       "      <td>79</td>\n",
       "      <td>4.68</td>\n",
       "    </tr>\n",
       "  </tbody>\n",
       "</table>\n",
       "</div>"
      ],
      "text/plain": [
       "   City_ID            City Country                 Date      Lat       Lng  \\\n",
       "0        0          Devrek      TR  2021-10-02 00:22:05  41.2192   31.9558   \n",
       "1        1  Saint-Augustin      CA  2021-10-02 00:22:05  51.2260  -58.6502   \n",
       "2        2         Mataura      NZ  2021-10-02 00:19:36 -46.1927  168.8643   \n",
       "3        3       Volksrust      ZA  2021-10-02 00:22:06 -27.3654   29.8818   \n",
       "4        4       Kamyshlov      RU  2021-10-02 00:22:06  56.8428   62.7111   \n",
       "\n",
       "   Max Temp  Humidity  Cloudiness  Wind Speed  \n",
       "0     48.96        91           8        3.36  \n",
       "1     44.19        84         100       24.07  \n",
       "2     57.47        60         100        5.91  \n",
       "3     55.65        83          84        9.37  \n",
       "4     32.97        75          79        4.68  "
      ]
     },
     "metadata": {},
     "execution_count": 4
    }
   ],
   "metadata": {}
  },
  {
   "cell_type": "code",
   "execution_count": 5,
   "source": [
    "# Get the data types\r\n",
    "city_data_df.dtypes"
   ],
   "outputs": [
    {
     "output_type": "execute_result",
     "data": {
      "text/plain": [
       "City_ID         int64\n",
       "City           object\n",
       "Country        object\n",
       "Date           object\n",
       "Lat           float64\n",
       "Lng           float64\n",
       "Max Temp      float64\n",
       "Humidity        int64\n",
       "Cloudiness      int64\n",
       "Wind Speed    float64\n",
       "dtype: object"
      ]
     },
     "metadata": {},
     "execution_count": 5
    }
   ],
   "metadata": {}
  },
  {
   "cell_type": "code",
   "execution_count": 6,
   "source": [
    "# Configure gmaps to use Google API key\r\n",
    "gmaps.configure(api_key=g_key)"
   ],
   "outputs": [],
   "metadata": {}
  },
  {
   "cell_type": "code",
   "execution_count": 7,
   "source": [
    "# 1. Assign the locations to an array of latitude and longitude pairs\r\n",
    "locations = [latitude, longitude]\r\n",
    "\r\n",
    "# 2. Assign the weights variable to some values\r\n",
    "temperatures = # an array of length equal to the locations array length\r\n",
    "\r\n",
    "# 3. Assign the figure variable to the gmaps.figure() attribute\r\n",
    "fig = gmaps.figure()\r\n",
    "\r\n",
    "# 4. Assign the heatmap_layer variable to the heatmap_layer attribute\r\n",
    "heatmap_layer = gmaps.heatmap_layer(locations, weights=temperatures)\r\n",
    "\r\n",
    "# 5. Add the heatmap layer\r\n",
    "fig.add_layer(heatmap_layer)\r\n",
    "\r\n",
    "# 6. Call the figure to plot the data\r\n",
    "fig"
   ],
   "outputs": [
    {
     "output_type": "error",
     "ename": "SyntaxError",
     "evalue": "invalid syntax (<ipython-input-7-17aa37b3782c>, line 5)",
     "traceback": [
      "\u001b[1;36m  File \u001b[1;32m\"<ipython-input-7-17aa37b3782c>\"\u001b[1;36m, line \u001b[1;32m5\u001b[0m\n\u001b[1;33m    temperatures = # an array of length equal to the locations array length\u001b[0m\n\u001b[1;37m                                                                           ^\u001b[0m\n\u001b[1;31mSyntaxError\u001b[0m\u001b[1;31m:\u001b[0m invalid syntax\n"
     ]
    }
   ],
   "metadata": {}
  },
  {
   "cell_type": "code",
   "execution_count": null,
   "source": [
    "# Heatmap of temperature\r\n",
    "# Get the latitude and longitude\r\n",
    "locations = city_data_df[[\"Lat\", \"Lng\"]]\r\n",
    "# Get the maximum temperature\r\n",
    "max_temp = city_data_df[\"Max Temp\"]\r\n",
    "# Assign the figure variable\r\n",
    "fig = gmaps.figure(center=(30.0, 31.0), zoom_level=1.5)\r\n",
    "# Assign the heatmap variable\r\n",
    "heat_layer = gmaps.heatmap_layer(locations, weights=[max(temp,0) for temp in max_temp], dissipating=False, max_intensity=300, point_radius=4)\r\n",
    "# Add the heatmap layer\r\n",
    "fig.add_layer(heat_layer)\r\n",
    "#Call the figure to plot the data\r\n",
    "fig"
   ],
   "outputs": [
    {
     "output_type": "display_data",
     "data": {
      "application/vnd.jupyter.widget-view+json": {
       "version_major": 2,
       "version_minor": 0,
       "model_id": "9f4683e34b404baa9399238cbe41cdbb"
      },
      "text/plain": [
       "Figure(layout=FigureLayout(height='420px'))"
      ]
     },
     "metadata": {}
    }
   ],
   "metadata": {}
  },
  {
   "cell_type": "code",
   "execution_count": null,
   "source": [
    "# Heatmap of percent humidity\r\n",
    "# Get the latitude and longitude\r\n",
    "locations = city_data_df[[\"Lat\", \"Lng\"]]\r\n",
    "# Get the maximum temperature\r\n",
    "humidity = city_data_df[\"Humidity\"]\r\n",
    "# Assign the figure variable\r\n",
    "fig = gmaps.figure(center=(30.0, 31.0), zoom_level=1.5)\r\n",
    "# Assign the heatmap variable\r\n",
    "heat_layer = gmaps.heatmap_layer(locations, weights=humidity, dissipating=False, max_intensity=300, point_radius=4)\r\n",
    "# Add the heatmap layer\r\n",
    "fig.add_layer(heat_layer)\r\n",
    "#Call the figure to plot the data\r\n",
    "fig"
   ],
   "outputs": [
    {
     "output_type": "display_data",
     "data": {
      "application/vnd.jupyter.widget-view+json": {
       "version_major": 2,
       "version_minor": 0,
       "model_id": "0894c3be4c224375aa0640d04acf7b9e"
      },
      "text/plain": [
       "Figure(layout=FigureLayout(height='420px'))"
      ]
     },
     "metadata": {}
    }
   ],
   "metadata": {}
  },
  {
   "cell_type": "code",
   "execution_count": null,
   "source": [
    "# Heatmap of cloudiness\r\n",
    "# Get the latitude and longitude\r\n",
    "locations = city_data_df[[\"Lat\", \"Lng\"]]\r\n",
    "# Get the maximum temperature\r\n",
    "clouds = city_data_df[\"Cloudiness\"]\r\n",
    "# Assign the figure variable\r\n",
    "fig = gmaps.figure(center=(30.0, 31.0), zoom_level=1.5)\r\n",
    "# Assign the heatmap variable\r\n",
    "heat_layer = gmaps.heatmap_layer(locations, weights=clouds, dissipating=False, max_intensity=300, point_radius=4)\r\n",
    "# Add the heatmap layer\r\n",
    "fig.add_layer(heat_layer)\r\n",
    "#Call the figure to plot the data\r\n",
    "fig"
   ],
   "outputs": [
    {
     "output_type": "display_data",
     "data": {
      "application/vnd.jupyter.widget-view+json": {
       "version_major": 2,
       "version_minor": 0,
       "model_id": "553c4272316a4216aa35e9fb95c1c275"
      },
      "text/plain": [
       "Figure(layout=FigureLayout(height='420px'))"
      ]
     },
     "metadata": {}
    }
   ],
   "metadata": {}
  },
  {
   "cell_type": "code",
   "execution_count": null,
   "source": [
    "# Heatmap of wind speed\r\n",
    "# Get the latitude and longitude\r\n",
    "locations = city_data_df[[\"Lat\", \"Lng\"]]\r\n",
    "# Get the maximum temperature\r\n",
    "wind = city_data_df[\"Wind Speed\"]\r\n",
    "# Assign the figure variable\r\n",
    "fig = gmaps.figure(center=(30.0, 31.0), zoom_level=1.5)\r\n",
    "# Assign the heatmap variable\r\n",
    "heat_layer = gmaps.heatmap_layer(locations, weights=wind, dissipating=False, max_intensity=300, point_radius=4)\r\n",
    "# Add the heatmap layer\r\n",
    "fig.add_layer(heat_layer)\r\n",
    "#Call the figure to plot the data\r\n",
    "fig"
   ],
   "outputs": [
    {
     "output_type": "display_data",
     "data": {
      "application/vnd.jupyter.widget-view+json": {
       "version_major": 2,
       "version_minor": 0,
       "model_id": "5f788830f00f490fb27879fc2763d8fe"
      },
      "text/plain": [
       "Figure(layout=FigureLayout(height='420px'))"
      ]
     },
     "metadata": {}
    }
   ],
   "metadata": {}
  },
  {
   "cell_type": "code",
   "execution_count": 11,
   "source": [
    "# Ask the customer to add a minimum and maximum temperature value\r\n",
    "min_temp = float(input(\"What is the minimum temperature you would like for your trip?\"))\r\n",
    "max_temp = float(input(\"What is the maximum temperature you would like for your trip?\"))"
   ],
   "outputs": [],
   "metadata": {}
  },
  {
   "cell_type": "code",
   "execution_count": 12,
   "source": [
    "# Filter the dataset to find the cities that fit the criteria\r\n",
    "preferred_cities_df = city_data_df.loc[(city_data_df[\"Max Temp\"] <= max_temp) & \\\r\n",
    "                                        (city_data_df[\"Max Temp\"] >= min_temp)]\r\n",
    "\r\n",
    "preferred_cities_df.head(10)"
   ],
   "outputs": [
    {
     "output_type": "execute_result",
     "data": {
      "text/html": [
       "<div>\n",
       "<style scoped>\n",
       "    .dataframe tbody tr th:only-of-type {\n",
       "        vertical-align: middle;\n",
       "    }\n",
       "\n",
       "    .dataframe tbody tr th {\n",
       "        vertical-align: top;\n",
       "    }\n",
       "\n",
       "    .dataframe thead th {\n",
       "        text-align: right;\n",
       "    }\n",
       "</style>\n",
       "<table border=\"1\" class=\"dataframe\">\n",
       "  <thead>\n",
       "    <tr style=\"text-align: right;\">\n",
       "      <th></th>\n",
       "      <th>City_ID</th>\n",
       "      <th>City</th>\n",
       "      <th>Country</th>\n",
       "      <th>Date</th>\n",
       "      <th>Lat</th>\n",
       "      <th>Lng</th>\n",
       "      <th>Max Temp</th>\n",
       "      <th>Humidity</th>\n",
       "      <th>Cloudiness</th>\n",
       "      <th>Wind Speed</th>\n",
       "    </tr>\n",
       "  </thead>\n",
       "  <tbody>\n",
       "    <tr>\n",
       "      <th>7</th>\n",
       "      <td>7</td>\n",
       "      <td>Cayenne</td>\n",
       "      <td>GF</td>\n",
       "      <td>2021-10-02 00:22:08</td>\n",
       "      <td>4.9333</td>\n",
       "      <td>-52.3333</td>\n",
       "      <td>83.08</td>\n",
       "      <td>79</td>\n",
       "      <td>17</td>\n",
       "      <td>1.99</td>\n",
       "    </tr>\n",
       "    <tr>\n",
       "      <th>8</th>\n",
       "      <td>8</td>\n",
       "      <td>Carnarvon</td>\n",
       "      <td>AU</td>\n",
       "      <td>2021-10-02 00:19:31</td>\n",
       "      <td>-24.8667</td>\n",
       "      <td>113.6333</td>\n",
       "      <td>68.07</td>\n",
       "      <td>49</td>\n",
       "      <td>16</td>\n",
       "      <td>12.66</td>\n",
       "    </tr>\n",
       "    <tr>\n",
       "      <th>10</th>\n",
       "      <td>10</td>\n",
       "      <td>Muisne</td>\n",
       "      <td>EC</td>\n",
       "      <td>2021-10-02 00:22:09</td>\n",
       "      <td>0.6000</td>\n",
       "      <td>-80.0333</td>\n",
       "      <td>74.35</td>\n",
       "      <td>85</td>\n",
       "      <td>82</td>\n",
       "      <td>5.44</td>\n",
       "    </tr>\n",
       "    <tr>\n",
       "      <th>13</th>\n",
       "      <td>13</td>\n",
       "      <td>Namatanai</td>\n",
       "      <td>PG</td>\n",
       "      <td>2021-10-02 00:20:32</td>\n",
       "      <td>-3.6667</td>\n",
       "      <td>152.4333</td>\n",
       "      <td>85.08</td>\n",
       "      <td>65</td>\n",
       "      <td>97</td>\n",
       "      <td>3.00</td>\n",
       "    </tr>\n",
       "    <tr>\n",
       "      <th>14</th>\n",
       "      <td>14</td>\n",
       "      <td>Isangel</td>\n",
       "      <td>VU</td>\n",
       "      <td>2021-10-02 00:22:10</td>\n",
       "      <td>-19.5500</td>\n",
       "      <td>169.2667</td>\n",
       "      <td>77.11</td>\n",
       "      <td>88</td>\n",
       "      <td>90</td>\n",
       "      <td>9.22</td>\n",
       "    </tr>\n",
       "    <tr>\n",
       "      <th>19</th>\n",
       "      <td>19</td>\n",
       "      <td>San Cristobal</td>\n",
       "      <td>VE</td>\n",
       "      <td>2021-10-02 00:20:43</td>\n",
       "      <td>7.7669</td>\n",
       "      <td>-72.2250</td>\n",
       "      <td>75.38</td>\n",
       "      <td>92</td>\n",
       "      <td>18</td>\n",
       "      <td>2.55</td>\n",
       "    </tr>\n",
       "    <tr>\n",
       "      <th>21</th>\n",
       "      <td>21</td>\n",
       "      <td>Mazara Del Vallo</td>\n",
       "      <td>IT</td>\n",
       "      <td>2021-10-02 00:22:13</td>\n",
       "      <td>37.6641</td>\n",
       "      <td>12.5880</td>\n",
       "      <td>71.55</td>\n",
       "      <td>92</td>\n",
       "      <td>47</td>\n",
       "      <td>15.19</td>\n",
       "    </tr>\n",
       "    <tr>\n",
       "      <th>22</th>\n",
       "      <td>22</td>\n",
       "      <td>Kavaratti</td>\n",
       "      <td>IN</td>\n",
       "      <td>2021-10-02 00:22:13</td>\n",
       "      <td>10.5669</td>\n",
       "      <td>72.6420</td>\n",
       "      <td>77.86</td>\n",
       "      <td>83</td>\n",
       "      <td>99</td>\n",
       "      <td>3.22</td>\n",
       "    </tr>\n",
       "    <tr>\n",
       "      <th>24</th>\n",
       "      <td>24</td>\n",
       "      <td>Vaini</td>\n",
       "      <td>TO</td>\n",
       "      <td>2021-10-02 00:19:42</td>\n",
       "      <td>-21.2000</td>\n",
       "      <td>-175.2000</td>\n",
       "      <td>77.16</td>\n",
       "      <td>88</td>\n",
       "      <td>75</td>\n",
       "      <td>13.80</td>\n",
       "    </tr>\n",
       "    <tr>\n",
       "      <th>26</th>\n",
       "      <td>26</td>\n",
       "      <td>Fowa</td>\n",
       "      <td>NG</td>\n",
       "      <td>2021-10-02 00:22:15</td>\n",
       "      <td>8.9167</td>\n",
       "      <td>6.4000</td>\n",
       "      <td>73.06</td>\n",
       "      <td>96</td>\n",
       "      <td>96</td>\n",
       "      <td>4.29</td>\n",
       "    </tr>\n",
       "  </tbody>\n",
       "</table>\n",
       "</div>"
      ],
      "text/plain": [
       "    City_ID              City Country                 Date      Lat       Lng  \\\n",
       "7         7           Cayenne      GF  2021-10-02 00:22:08   4.9333  -52.3333   \n",
       "8         8         Carnarvon      AU  2021-10-02 00:19:31 -24.8667  113.6333   \n",
       "10       10            Muisne      EC  2021-10-02 00:22:09   0.6000  -80.0333   \n",
       "13       13         Namatanai      PG  2021-10-02 00:20:32  -3.6667  152.4333   \n",
       "14       14           Isangel      VU  2021-10-02 00:22:10 -19.5500  169.2667   \n",
       "19       19     San Cristobal      VE  2021-10-02 00:20:43   7.7669  -72.2250   \n",
       "21       21  Mazara Del Vallo      IT  2021-10-02 00:22:13  37.6641   12.5880   \n",
       "22       22         Kavaratti      IN  2021-10-02 00:22:13  10.5669   72.6420   \n",
       "24       24             Vaini      TO  2021-10-02 00:19:42 -21.2000 -175.2000   \n",
       "26       26              Fowa      NG  2021-10-02 00:22:15   8.9167    6.4000   \n",
       "\n",
       "    Max Temp  Humidity  Cloudiness  Wind Speed  \n",
       "7      83.08        79          17        1.99  \n",
       "8      68.07        49          16       12.66  \n",
       "10     74.35        85          82        5.44  \n",
       "13     85.08        65          97        3.00  \n",
       "14     77.11        88          90        9.22  \n",
       "19     75.38        92          18        2.55  \n",
       "21     71.55        92          47       15.19  \n",
       "22     77.86        83          99        3.22  \n",
       "24     77.16        88          75       13.80  \n",
       "26     73.06        96          96        4.29  "
      ]
     },
     "metadata": {},
     "execution_count": 12
    }
   ],
   "metadata": {}
  },
  {
   "cell_type": "code",
   "execution_count": 13,
   "source": [
    "# Any null values?\r\n",
    "preferred_cities_df.count()"
   ],
   "outputs": [
    {
     "output_type": "execute_result",
     "data": {
      "text/plain": [
       "City_ID       247\n",
       "City          247\n",
       "Country       247\n",
       "Date          247\n",
       "Lat           247\n",
       "Lng           247\n",
       "Max Temp      247\n",
       "Humidity      247\n",
       "Cloudiness    247\n",
       "Wind Speed    247\n",
       "dtype: int64"
      ]
     },
     "metadata": {},
     "execution_count": 13
    }
   ],
   "metadata": {}
  },
  {
   "cell_type": "code",
   "execution_count": 14,
   "source": [
    "# Create DataFrame called hotel_df to store hotel names along with city, country, max temp, and coordinates\r\n",
    "hotel_df = preferred_cities_df[[\"City\", \"Country\", \"Max Temp\", \"Lat\", \"Lng\"]].copy()\r\n",
    "hotel_df[\"Hotel Name\"] = \"\"\r\n",
    "hotel_df.head(10)"
   ],
   "outputs": [
    {
     "output_type": "execute_result",
     "data": {
      "text/html": [
       "<div>\n",
       "<style scoped>\n",
       "    .dataframe tbody tr th:only-of-type {\n",
       "        vertical-align: middle;\n",
       "    }\n",
       "\n",
       "    .dataframe tbody tr th {\n",
       "        vertical-align: top;\n",
       "    }\n",
       "\n",
       "    .dataframe thead th {\n",
       "        text-align: right;\n",
       "    }\n",
       "</style>\n",
       "<table border=\"1\" class=\"dataframe\">\n",
       "  <thead>\n",
       "    <tr style=\"text-align: right;\">\n",
       "      <th></th>\n",
       "      <th>City</th>\n",
       "      <th>Country</th>\n",
       "      <th>Max Temp</th>\n",
       "      <th>Lat</th>\n",
       "      <th>Lng</th>\n",
       "      <th>Hotel Name</th>\n",
       "    </tr>\n",
       "  </thead>\n",
       "  <tbody>\n",
       "    <tr>\n",
       "      <th>7</th>\n",
       "      <td>Cayenne</td>\n",
       "      <td>GF</td>\n",
       "      <td>83.08</td>\n",
       "      <td>4.9333</td>\n",
       "      <td>-52.3333</td>\n",
       "      <td></td>\n",
       "    </tr>\n",
       "    <tr>\n",
       "      <th>8</th>\n",
       "      <td>Carnarvon</td>\n",
       "      <td>AU</td>\n",
       "      <td>68.07</td>\n",
       "      <td>-24.8667</td>\n",
       "      <td>113.6333</td>\n",
       "      <td></td>\n",
       "    </tr>\n",
       "    <tr>\n",
       "      <th>10</th>\n",
       "      <td>Muisne</td>\n",
       "      <td>EC</td>\n",
       "      <td>74.35</td>\n",
       "      <td>0.6000</td>\n",
       "      <td>-80.0333</td>\n",
       "      <td></td>\n",
       "    </tr>\n",
       "    <tr>\n",
       "      <th>13</th>\n",
       "      <td>Namatanai</td>\n",
       "      <td>PG</td>\n",
       "      <td>85.08</td>\n",
       "      <td>-3.6667</td>\n",
       "      <td>152.4333</td>\n",
       "      <td></td>\n",
       "    </tr>\n",
       "    <tr>\n",
       "      <th>14</th>\n",
       "      <td>Isangel</td>\n",
       "      <td>VU</td>\n",
       "      <td>77.11</td>\n",
       "      <td>-19.5500</td>\n",
       "      <td>169.2667</td>\n",
       "      <td></td>\n",
       "    </tr>\n",
       "    <tr>\n",
       "      <th>19</th>\n",
       "      <td>San Cristobal</td>\n",
       "      <td>VE</td>\n",
       "      <td>75.38</td>\n",
       "      <td>7.7669</td>\n",
       "      <td>-72.2250</td>\n",
       "      <td></td>\n",
       "    </tr>\n",
       "    <tr>\n",
       "      <th>21</th>\n",
       "      <td>Mazara Del Vallo</td>\n",
       "      <td>IT</td>\n",
       "      <td>71.55</td>\n",
       "      <td>37.6641</td>\n",
       "      <td>12.5880</td>\n",
       "      <td></td>\n",
       "    </tr>\n",
       "    <tr>\n",
       "      <th>22</th>\n",
       "      <td>Kavaratti</td>\n",
       "      <td>IN</td>\n",
       "      <td>77.86</td>\n",
       "      <td>10.5669</td>\n",
       "      <td>72.6420</td>\n",
       "      <td></td>\n",
       "    </tr>\n",
       "    <tr>\n",
       "      <th>24</th>\n",
       "      <td>Vaini</td>\n",
       "      <td>TO</td>\n",
       "      <td>77.16</td>\n",
       "      <td>-21.2000</td>\n",
       "      <td>-175.2000</td>\n",
       "      <td></td>\n",
       "    </tr>\n",
       "    <tr>\n",
       "      <th>26</th>\n",
       "      <td>Fowa</td>\n",
       "      <td>NG</td>\n",
       "      <td>73.06</td>\n",
       "      <td>8.9167</td>\n",
       "      <td>6.4000</td>\n",
       "      <td></td>\n",
       "    </tr>\n",
       "  </tbody>\n",
       "</table>\n",
       "</div>"
      ],
      "text/plain": [
       "                City Country  Max Temp      Lat       Lng Hotel Name\n",
       "7            Cayenne      GF     83.08   4.9333  -52.3333           \n",
       "8          Carnarvon      AU     68.07 -24.8667  113.6333           \n",
       "10            Muisne      EC     74.35   0.6000  -80.0333           \n",
       "13         Namatanai      PG     85.08  -3.6667  152.4333           \n",
       "14           Isangel      VU     77.11 -19.5500  169.2667           \n",
       "19     San Cristobal      VE     75.38   7.7669  -72.2250           \n",
       "21  Mazara Del Vallo      IT     71.55  37.6641   12.5880           \n",
       "22         Kavaratti      IN     77.86  10.5669   72.6420           \n",
       "24             Vaini      TO     77.16 -21.2000 -175.2000           \n",
       "26              Fowa      NG     73.06   8.9167    6.4000           "
      ]
     },
     "metadata": {},
     "execution_count": 14
    }
   ],
   "metadata": {}
  },
  {
   "cell_type": "code",
   "execution_count": 15,
   "source": [
    "# Set parameters to search for a hotel.\r\n",
    "params = {\r\n",
    "    \"radius\": 5000,\r\n",
    "    \"type\": \"lodging\",\r\n",
    "    \"key\": g_key\r\n",
    "}\r\n",
    "\r\n",
    "# Iterate through the DataFrame.\r\n",
    "for index, row in hotel_df.iterrows():\r\n",
    "    # Get the latitude and longitude.\r\n",
    "    lat = row[\"Lat\"]\r\n",
    "    lng = row[\"Lng\"]\r\n",
    "\r\n",
    "    # Add the latitude and longitude to location key for the params dictionary.\r\n",
    "    params[\"location\"] = f\"{lat},{lng}\"\r\n",
    "\r\n",
    "    # Use the search term: \"lodging\" and our latitude and longitude.\r\n",
    "    base_url = \"https://maps.googleapis.com/maps/api/place/nearbysearch/json\"\r\n",
    "    # Make request and get the JSON data from the search.\r\n",
    "    hotels = requests.get(base_url, params=params).json()\r\n",
    "    # Grab the first hotel from the results and store the name.\r\n",
    "    try:\r\n",
    "        hotel_df.loc[index, \"Hotel Name\"] = hotels[\"results\"][0][\"name\"]\r\n",
    "    except (IndexError):\r\n",
    "        print(\"Hotel not found... skipping.\")"
   ],
   "outputs": [
    {
     "output_type": "stream",
     "name": "stdout",
     "text": [
      "Hotel not found... skipping.\n",
      "Hotel not found... skipping.\n",
      "Hotel not found... skipping.\n",
      "Hotel not found... skipping.\n",
      "Hotel not found... skipping.\n",
      "Hotel not found... skipping.\n",
      "Hotel not found... skipping.\n",
      "Hotel not found... skipping.\n",
      "Hotel not found... skipping.\n",
      "Hotel not found... skipping.\n",
      "Hotel not found... skipping.\n",
      "Hotel not found... skipping.\n",
      "Hotel not found... skipping.\n",
      "Hotel not found... skipping.\n",
      "Hotel not found... skipping.\n",
      "Hotel not found... skipping.\n"
     ]
    }
   ],
   "metadata": {}
  },
  {
   "cell_type": "code",
   "execution_count": 44,
   "source": [
    "# Add a heatmap of temperature for the vacation spots and a pop-up marker for each city.\r\n",
    "locations = hotel_df[[\"Lat\", \"Lng\"]]\r\n",
    "max_temp = hotel_df[\"Max Temp\"]\r\n",
    "fig = gmaps.figure(center=(30.0, 31.0), zoom_level=1.5)\r\n",
    "heat_layer = gmaps.heatmap_layer(locations, weights=max_temp,dissipating=False,\r\n",
    "             max_intensity=300, point_radius=4)\r\n",
    "marker_layer = gmaps.marker_layer(locations, info_box_content=hotel_info)\r\n",
    "fig.add_layer(heat_layer)\r\n",
    "fig.add_layer(marker_layer)\r\n",
    "\r\n",
    "# Call the figure to plot the data.\r\n",
    "fig"
   ],
   "outputs": [
    {
     "output_type": "display_data",
     "data": {
      "application/vnd.jupyter.widget-view+json": {
       "version_major": 2,
       "version_minor": 0,
       "model_id": "dd70c6563e7b4d3bad188b55f2c5ffae"
      },
      "text/plain": [
       "Figure(layout=FigureLayout(height='420px'))"
      ]
     },
     "metadata": {}
    }
   ],
   "metadata": {}
  },
  {
   "cell_type": "code",
   "execution_count": 43,
   "source": [
    "info_box_template = \"\"\"\r\n",
    "<dl>\r\n",
    "<dt>Hotel Name</dt><dd>{Hotel Name}</dd>\r\n",
    "<dt>City</dt><dd>{City}</dd>\r\n",
    "<dt>Country</dt><dd>{Country}</dd>\r\n",
    "<dt>Max Temp</dt><dd>{Max Temp} °F</dd>\r\n",
    "</dl>\r\n",
    "\"\"\"\r\n",
    "\r\n",
    "# Store the DataFrame Row.\r\n",
    "hotel_info = [info_box_template.format(**row) for index, row in hotel_df.iterrows()]"
   ],
   "outputs": [],
   "metadata": {}
  }
 ],
 "metadata": {
  "language_info": {
   "name": "python",
   "version": "3.7.10",
   "mimetype": "text/x-python",
   "codemirror_mode": {
    "name": "ipython",
    "version": 3
   },
   "pygments_lexer": "ipython3",
   "nbconvert_exporter": "python",
   "file_extension": ".py"
  },
  "kernelspec": {
   "name": "python3",
   "display_name": "Python 3.7.10 64-bit ('PythonData': conda)"
  },
  "interpreter": {
   "hash": "2fc54fcfdff9fc807bf4c3cb881b8918bc3897539eb56229e8f83bc2026f0e36"
  }
 },
 "nbformat": 4,
 "nbformat_minor": 5
}
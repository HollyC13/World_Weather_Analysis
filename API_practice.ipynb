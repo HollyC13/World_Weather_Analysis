{
 "cells": [
  {
   "cell_type": "code",
   "execution_count": 17,
   "source": [
    "# Create a practice set of random latitude and longitude combinations.\r\n",
    "x = [25.12903645, 25.92017388, 26.62509167, -59.98969384, 37.30571269]\r\n",
    "y = [-67.59741259, 11.09532135, 74.84233102, -76.89176677, -61.13376282]\r\n",
    "coordinates = zip(x, y)"
   ],
   "outputs": [],
   "metadata": {}
  },
  {
   "cell_type": "code",
   "execution_count": 18,
   "source": [
    "# Use the tuple() function to display the latitude and longitude combinations.\r\n",
    "for coordinate in coordinates:\r\n",
    "    print(coordinate[0], coordinate[1])"
   ],
   "outputs": [
    {
     "output_type": "stream",
     "name": "stdout",
     "text": [
      "25.12903645 -67.59741259\n",
      "25.92017388 11.09532135\n",
      "26.62509167 74.84233102\n",
      "-59.98969384 -76.89176677\n",
      "37.30571269 -61.13376282\n"
     ]
    }
   ],
   "metadata": {}
  },
  {
   "cell_type": "code",
   "execution_count": 19,
   "source": [
    "# Use the citipy mocule to determine city based on latitude and longitude\r\n",
    "from citipy import citipy"
   ],
   "outputs": [],
   "metadata": {}
  },
  {
   "cell_type": "code",
   "execution_count": 20,
   "source": [
    "# Use the tuple() function to display the latitude and longitude combinations\r\n",
    "for coordinate in coordinates:\r\n",
    "    print(citipy.nearest.city(coordinate[0], coordinate [1]).city_name,\r\n",
    "    citipy.nearest_city(coordinate[0], coordinate[1]).country_code)"
   ],
   "outputs": [],
   "metadata": {}
  },
  {
   "cell_type": "code",
   "execution_count": 21,
   "source": [
    "# Import the requests library\r\n",
    "import requests\r\n",
    "\r\n",
    "# Import the API key\r\n",
    "from config import weather_api_key"
   ],
   "outputs": [],
   "metadata": {}
  },
  {
   "cell_type": "code",
   "execution_count": 29,
   "source": [
    "# Starting URL for Weather Map API Call\r\n",
    "url = \"http://api.openweathermap.org/data/2.5/weather?units=Imperial&APPID=\" + weather_api_key"
   ],
   "outputs": [],
   "metadata": {}
  },
  {
   "cell_type": "code",
   "execution_count": 30,
   "source": [
    "# Create an endpoint URL for a city\r\n",
    "city_url = url + \"&q=\" + \"Boston\"\r\n",
    "print(city_url)"
   ],
   "outputs": [
    {
     "output_type": "stream",
     "name": "stdout",
     "text": [
      "http://api.openweathermap.org/data/2.5/weather?units=Imperial&APPID=4b23125072a271be82d43b80c7ab811c&q=Boston\n"
     ]
    }
   ],
   "metadata": {}
  },
  {
   "cell_type": "code",
   "execution_count": 31,
   "source": [
    "# Make a 'Get' request for the city weather\r\n",
    "city_weather = requests.get(city_url)\r\n",
    "city_weather"
   ],
   "outputs": [
    {
     "output_type": "execute_result",
     "data": {
      "text/plain": [
       "<Response [200]>"
      ]
     },
     "metadata": {},
     "execution_count": 31
    }
   ],
   "metadata": {}
  },
  {
   "cell_type": "code",
   "execution_count": 32,
   "source": [
    "# Create an endpoint URL for a city\r\n",
    "city_url = url + \"&q=\" + \"Boston\"\r\n",
    "city_weather = requests.get(city_url)\r\n",
    "city_weather"
   ],
   "outputs": [
    {
     "output_type": "execute_result",
     "data": {
      "text/plain": [
       "<Response [200]>"
      ]
     },
     "metadata": {},
     "execution_count": 32
    }
   ],
   "metadata": {}
  },
  {
   "cell_type": "code",
   "execution_count": 33,
   "source": [
    "# Get the text of the 'Get' request\r\n",
    "city_weather.text"
   ],
   "outputs": [
    {
     "output_type": "execute_result",
     "data": {
      "text/plain": [
       "'{\"coord\":{\"lon\":-71.0598,\"lat\":42.3584},\"weather\":[{\"id\":803,\"main\":\"Clouds\",\"description\":\"broken clouds\",\"icon\":\"04d\"}],\"base\":\"stations\",\"main\":{\"temp\":64.38,\"feels_like\":62.96,\"temp_min\":59.95,\"temp_max\":68.38,\"pressure\":1021,\"humidity\":52},\"visibility\":10000,\"wind\":{\"speed\":4,\"deg\":307,\"gust\":15.99},\"clouds\":{\"all\":75},\"dt\":1633111794,\"sys\":{\"type\":2,\"id\":2013408,\"country\":\"US\",\"sunrise\":1633084885,\"sunset\":1633127162},\"timezone\":-14400,\"id\":4930956,\"name\":\"Boston\",\"cod\":200}'"
      ]
     },
     "metadata": {},
     "execution_count": 33
    }
   ],
   "metadata": {}
  },
  {
   "cell_type": "code",
   "execution_count": 34,
   "source": [
    "# Get the JSON text of the 'Get' request\r\n",
    "city_weather.json()"
   ],
   "outputs": [
    {
     "output_type": "execute_result",
     "data": {
      "text/plain": [
       "{'coord': {'lon': -71.0598, 'lat': 42.3584},\n",
       " 'weather': [{'id': 803,\n",
       "   'main': 'Clouds',\n",
       "   'description': 'broken clouds',\n",
       "   'icon': '04d'}],\n",
       " 'base': 'stations',\n",
       " 'main': {'temp': 64.38,\n",
       "  'feels_like': 62.96,\n",
       "  'temp_min': 59.95,\n",
       "  'temp_max': 68.38,\n",
       "  'pressure': 1021,\n",
       "  'humidity': 52},\n",
       " 'visibility': 10000,\n",
       " 'wind': {'speed': 4, 'deg': 307, 'gust': 15.99},\n",
       " 'clouds': {'all': 75},\n",
       " 'dt': 1633111794,\n",
       " 'sys': {'type': 2,\n",
       "  'id': 2013408,\n",
       "  'country': 'US',\n",
       "  'sunrise': 1633084885,\n",
       "  'sunset': 1633127162},\n",
       " 'timezone': -14400,\n",
       " 'id': 4930956,\n",
       " 'name': 'Boston',\n",
       " 'cod': 200}"
      ]
     },
     "metadata": {},
     "execution_count": 34
    }
   ],
   "metadata": {}
  },
  {
   "cell_type": "code",
   "execution_count": 36,
   "source": [
    "# Create an endpoint URL for a city\r\n",
    "city_url = url + \"&q=\" + \"Boston\"\r\n",
    "city_weather = requests.get(city_url)\r\n",
    "if city_weather.status_code == 200:\r\n",
    "    print(f\"City Weather found.\")\r\n",
    "else:\r\n",
    "    print(f\"City weather not found.\")"
   ],
   "outputs": [
    {
     "output_type": "stream",
     "name": "stdout",
     "text": [
      "City Weather found.\n"
     ]
    }
   ],
   "metadata": {}
  },
  {
   "cell_type": "code",
   "execution_count": 37,
   "source": [
    "# Create an endpoint URL for a city\r\n",
    "city_url = url + \"&q=\" + \"Boston\"\r\n",
    "city_weather = requests.get(city_url)\r\n",
    "city_weather.json()"
   ],
   "outputs": [
    {
     "output_type": "execute_result",
     "data": {
      "text/plain": [
       "{'coord': {'lon': -71.0598, 'lat': 42.3584},\n",
       " 'weather': [{'id': 803,\n",
       "   'main': 'Clouds',\n",
       "   'description': 'broken clouds',\n",
       "   'icon': '04d'}],\n",
       " 'base': 'stations',\n",
       " 'main': {'temp': 64.47,\n",
       "  'feels_like': 63.01,\n",
       "  'temp_min': 60.67,\n",
       "  'temp_max': 67.8,\n",
       "  'pressure': 1020,\n",
       "  'humidity': 51},\n",
       " 'visibility': 10000,\n",
       " 'wind': {'speed': 7, 'deg': 347, 'gust': 14},\n",
       " 'clouds': {'all': 75},\n",
       " 'dt': 1633112732,\n",
       " 'sys': {'type': 2,\n",
       "  'id': 2013408,\n",
       "  'country': 'US',\n",
       "  'sunrise': 1633084885,\n",
       "  'sunset': 1633127162},\n",
       " 'timezone': -14400,\n",
       " 'id': 4930956,\n",
       " 'name': 'Boston',\n",
       " 'cod': 200}"
      ]
     },
     "metadata": {},
     "execution_count": 37
    }
   ],
   "metadata": {}
  },
  {
   "cell_type": "code",
   "execution_count": 39,
   "source": [
    "# Get the JSON data for Boson\r\n",
    "boston_data = city_weather.json()"
   ],
   "outputs": [],
   "metadata": {}
  },
  {
   "cell_type": "code",
   "execution_count": 41,
   "source": [
    "boston_data['sys'][\"country\"]"
   ],
   "outputs": [
    {
     "output_type": "execute_result",
     "data": {
      "text/plain": [
       "'US'"
      ]
     },
     "metadata": {},
     "execution_count": 41
    }
   ],
   "metadata": {}
  },
  {
   "cell_type": "code",
   "execution_count": 42,
   "source": [
    "boston_data[\"dt\"]"
   ],
   "outputs": [
    {
     "output_type": "execute_result",
     "data": {
      "text/plain": [
       "1633112732"
      ]
     },
     "metadata": {},
     "execution_count": 42
    }
   ],
   "metadata": {}
  },
  {
   "cell_type": "code",
   "execution_count": 50,
   "source": [
    "boston_data[\"main\"][\"temp_max\"]"
   ],
   "outputs": [
    {
     "output_type": "execute_result",
     "data": {
      "text/plain": [
       "67.8"
      ]
     },
     "metadata": {},
     "execution_count": 50
    }
   ],
   "metadata": {}
  },
  {
   "cell_type": "code",
   "execution_count": 54,
   "source": [
    "lat = boston_data[\"coord\"][\"lat\"]\r\n",
    "lng = boston_data[\"coord\"][\"lon\"]\r\n",
    "max_temp = boston_data[\"main\"][\"temp_max\"]\r\n",
    "humidity = boston_data[\"main\"][\"humidity\"]\r\n",
    "clouds = boston_data[\"clouds\"][\"all\"]\r\n",
    "wind = boston_data[\"wind\"][\"speed\"]\r\n",
    "print(lat, lng, max_temp, humidity, clouds, wind)\r\n"
   ],
   "outputs": [
    {
     "output_type": "stream",
     "name": "stdout",
     "text": [
      "42.3584 -71.0598 67.8 51 75 7\n"
     ]
    }
   ],
   "metadata": {}
  },
  {
   "cell_type": "code",
   "execution_count": 55,
   "source": [
    "# Import the datetime module from the datetime library\r\n",
    "from datetime import datetime\r\n",
    "# Get the date from the JSON file\r\n",
    "date = boston_data[\"dt\"]\r\n",
    "# Convert the UTC date tot a date format with year, month, day, hours, minutes and seconds\r\n",
    "datetime.utcfromtimestamp(date)"
   ],
   "outputs": [
    {
     "output_type": "execute_result",
     "data": {
      "text/plain": [
       "datetime.datetime(2021, 10, 1, 18, 25, 32)"
      ]
     },
     "metadata": {},
     "execution_count": 55
    }
   ],
   "metadata": {}
  },
  {
   "cell_type": "code",
   "execution_count": 57,
   "source": [
    "datetime.utcfromtimestamp(date).strftime('%Y-%m-%d %H:%M:%S')"
   ],
   "outputs": [
    {
     "output_type": "execute_result",
     "data": {
      "text/plain": [
       "'2021-10-01 18:25:32'"
      ]
     },
     "metadata": {},
     "execution_count": 57
    }
   ],
   "metadata": {}
  },
  {
   "cell_type": "code",
   "execution_count": 59,
   "source": [
    "# Import the time module\r\n",
    "import time\r\n",
    "\r\n",
    "# Get today's date in seconds\r\n",
    "today = time.strftime(\"%x\")\r\n",
    "today\r\n"
   ],
   "outputs": [
    {
     "output_type": "execute_result",
     "data": {
      "text/plain": [
       "'10/01/21'"
      ]
     },
     "metadata": {},
     "execution_count": 59
    }
   ],
   "metadata": {}
  }
 ],
 "metadata": {
  "kernelspec": {
   "name": "python3",
   "display_name": "Python 3.7.10 64-bit ('PythonData': conda)"
  },
  "language_info": {
   "name": "python",
   "version": "3.7.10",
   "mimetype": "text/x-python",
   "codemirror_mode": {
    "name": "ipython",
    "version": 3
   },
   "pygments_lexer": "ipython3",
   "nbconvert_exporter": "python",
   "file_extension": ".py"
  },
  "interpreter": {
   "hash": "2fc54fcfdff9fc807bf4c3cb881b8918bc3897539eb56229e8f83bc2026f0e36"
  }
 },
 "nbformat": 4,
 "nbformat_minor": 5
}